{
 "metadata": {
  "name": "",
  "signature": "sha256:1338ee53508b6f9cdec963726338f3addaeeccfcace42da14173b268d9eec045"
 },
 "nbformat": 3,
 "nbformat_minor": 0,
 "worksheets": [
  {
   "cells": [
    {
     "cell_type": "code",
     "collapsed": false,
     "input": [
      "import xml.etree.ElementTree as ET\n",
      "tree = ET.parse('country_data.xml')\n",
      "root = tree.getroot()\n",
      "#root = ET.fromstring(country_data_as_string)\n",
      "for child in root:\n",
      "\tprint child.tag, child.attrib\n",
      "\n",
      "for neighbor in root.iter('neighbor'):\n",
      "\tprint neighbor.attrib\n",
      "\n",
      "for country in root.findall('country'):\n",
      "   rank = country.find('rank').text\n",
      "   name = country.get('name')\n",
      "   print name, rank\n"
     ],
     "language": "python",
     "metadata": {},
     "outputs": [
      {
       "output_type": "stream",
       "stream": "stdout",
       "text": [
        "country {'name': 'Liechtenstein'}\n",
        "country {'name': 'Singapore'}\n",
        "country {'name': 'Panama'}\n",
        "{'direction': 'E', 'name': 'Austria'}\n",
        "{'direction': 'W', 'name': 'Switzerland'}\n",
        "{'direction': 'N', 'name': 'Malaysia'}\n",
        "{'direction': 'W', 'name': 'Costa Rica'}\n",
        "{'direction': 'E', 'name': 'Colombia'}\n",
        "Liechtenstein 1\n",
        "Singapore 4\n",
        "Panama 68\n",
        "country_name    Panama\n",
        "dtype: object\n",
        "country_name    Panama\n",
        "dtype: object\n",
        "country_name    Panama\n",
        "dtype: object\n"
       ]
      }
     ],
     "prompt_number": 34
    },
    {
     "cell_type": "code",
     "collapsed": false,
     "input": [
      "import pandas as pd\n",
      "df = pd.DataFrame(columns=('name', 'rank', 'year'))\n",
      "\n",
      "for i in range(len(root)):\n",
      "    name = root[i].attrib['name']\n",
      "    rank = root[i].find('rank').text\n",
      "    #neighbor = root[i].find('neighbor').text#['name'].text\n",
      "    year = root[i].find('year').text\n",
      "    \n",
      "    row = dict(zip(['name','rank','year'],[name,rank,year]))\n",
      "    row_s = pd.Series(row)\n",
      "    print row_s\n",
      "    row_s.name = i\n",
      "    df.append(row_s)\n",
      "    "
     ],
     "language": "python",
     "metadata": {},
     "outputs": [
      {
       "output_type": "stream",
       "stream": "stdout",
       "text": [
        "name    Liechtenstein\n",
        "rank                1\n",
        "year             2008\n",
        "dtype: object\n",
        "name    Singapore\n",
        "rank            4\n",
        "year         2011\n",
        "dtype: object\n",
        "name    Panama\n",
        "rank        68\n",
        "year      2011\n",
        "dtype: object\n"
       ]
      }
     ],
     "prompt_number": 62
    },
    {
     "cell_type": "code",
     "collapsed": false,
     "input": [
      "row_s"
     ],
     "language": "python",
     "metadata": {},
     "outputs": [
      {
       "metadata": {},
       "output_type": "pyout",
       "prompt_number": 63,
       "text": [
        "name    Panama\n",
        "rank        68\n",
        "year      2011\n",
        "Name: 2, dtype: object"
       ]
      }
     ],
     "prompt_number": 63
    },
    {
     "cell_type": "code",
     "collapsed": false,
     "input": [
      "from lxml import objectify\n",
      "import pandas as pd\n",
      "\n",
      "path = './country_data.xml'\n",
      "xml = objectify.parse(open(path))\n",
      "root = xml.getroot()\n",
      "#root.getchildren()[0].getchildren()\n",
      "df = pd.DataFrame(columns=('country_name','id','year'))\n",
      "\n",
      "for i in range(3):\n",
      "    obj = root.getchildren()[i].getchildren()\n",
      "    country_name = root.getchildren()[i.text\n",
      "    row = dict(zip(['country_name','id','year'],[country_name,obj[0].text,obj[1].text]))\n",
      "    row_s = pd.Series(row)\n",
      "    print row_s\n",
      "    row_s.name = i\n",
      "    df = df.append(row_s)\n",
      "    \n",
      "df2 = pd.DataFrame(columns=('id', 'name'))\n",
      "\n",
      "for i in range(len(root)):\n",
      "    obj = root.getchildren()[i].getchildren()\n",
      "    row = dict(zip(['id', 'name'], [obj[0].text, obj[1].text]))\n",
      "    row_s = pd.Series(row)\n",
      "    row_s.name = i\n",
      "    df2 = df2.append(row_s)\n",
      "    \n",
      "df2"
     ],
     "language": "python",
     "metadata": {},
     "outputs": [
      {
       "output_type": "stream",
       "stream": "stdout",
       "text": [
        "country_name    None\n",
        "id                 1\n",
        "year            2008\n",
        "dtype: object\n",
        "country_name    None\n",
        "id                 4\n",
        "year            2011\n",
        "dtype: object\n",
        "country_name    None\n",
        "id                68\n",
        "year            2011\n",
        "dtype: object\n"
       ]
      }
     ],
     "prompt_number": 22
    },
    {
     "cell_type": "code",
     "collapsed": false,
     "input": [
      "root.country[0].getchildren()"
     ],
     "language": "python",
     "metadata": {},
     "outputs": [
      {
       "metadata": {},
       "output_type": "pyout",
       "prompt_number": 29,
       "text": [
        "[1, 2008, 141100, u'', u'']"
       ]
      }
     ],
     "prompt_number": 29
    },
    {
     "cell_type": "code",
     "collapsed": false,
     "input": [
      "df2 = pd.DataFrame(columns=('id', 'name'))\n",
      "\n",
      "for i in range(len(root)):\n",
      "    obj = root.getchildren()[i].getchildren()\n",
      "    row = dict(zip(['id', 'name'], [obj[0].text, obj[1].text]))\n",
      "    row_s = pd.Series(row)\n",
      "    row_s.name = i\n",
      "    df2 = df2.append(row_s)\n",
      "    \n",
      "df2"
     ],
     "language": "python",
     "metadata": {},
     "outputs": [
      {
       "html": [
        "<div style=\"max-height:1000px;max-width:1500px;overflow:auto;\">\n",
        "<table border=\"1\" class=\"dataframe\">\n",
        "  <thead>\n",
        "    <tr style=\"text-align: right;\">\n",
        "      <th></th>\n",
        "      <th>id</th>\n",
        "      <th>name</th>\n",
        "    </tr>\n",
        "  </thead>\n",
        "  <tbody>\n",
        "    <tr>\n",
        "      <th>0</th>\n",
        "      <td>  1</td>\n",
        "      <td> 2008</td>\n",
        "    </tr>\n",
        "    <tr>\n",
        "      <th>1</th>\n",
        "      <td>  4</td>\n",
        "      <td> 2011</td>\n",
        "    </tr>\n",
        "    <tr>\n",
        "      <th>2</th>\n",
        "      <td> 68</td>\n",
        "      <td> 2011</td>\n",
        "    </tr>\n",
        "  </tbody>\n",
        "</table>\n",
        "</div>"
       ],
       "metadata": {},
       "output_type": "pyout",
       "prompt_number": 61,
       "text": [
        "   id  name\n",
        "0   1  2008\n",
        "1   4  2011\n",
        "2  68  2011"
       ]
      }
     ],
     "prompt_number": 61
    },
    {
     "cell_type": "code",
     "collapsed": false,
     "input": [
      "df"
     ],
     "language": "python",
     "metadata": {},
     "outputs": [
      {
       "html": [
        "<div style=\"max-height:1000px;max-width:1500px;overflow:auto;\">\n",
        "<table border=\"1\" class=\"dataframe\">\n",
        "  <thead>\n",
        "    <tr style=\"text-align: right;\">\n",
        "      <th></th>\n",
        "      <th>name</th>\n",
        "      <th>rank</th>\n",
        "      <th>year</th>\n",
        "      <th>neighbor_1</th>\n",
        "    </tr>\n",
        "  </thead>\n",
        "  <tbody>\n",
        "  </tbody>\n",
        "</table>\n",
        "</div>"
       ],
       "metadata": {},
       "output_type": "pyout",
       "prompt_number": 57,
       "text": [
        "Empty DataFrame\n",
        "Columns: [name, rank, year, neighbor_1]\n",
        "Index: []"
       ]
      }
     ],
     "prompt_number": 57
    },
    {
     "cell_type": "code",
     "collapsed": false,
     "input": [
      "ET"
     ],
     "language": "python",
     "metadata": {},
     "outputs": [
      {
       "metadata": {},
       "output_type": "pyout",
       "prompt_number": 16,
       "text": [
        "<module 'xml.etree.ElementTree' from '/home/atproofer/anaconda/lib/python2.7/xml/etree/ElementTree.pyc'>"
       ]
      }
     ],
     "prompt_number": 16
    }
   ],
   "metadata": {}
  }
 ]
}