{
 "metadata": {
  "name": "",
  "signature": "sha256:f430cd01973cd02cec6934e578cb0beace65cd9798eb9c633b051761db9f370d"
 },
 "nbformat": 3,
 "nbformat_minor": 0,
 "worksheets": [
  {
   "cells": [
    {
     "cell_type": "code",
     "collapsed": false,
     "input": [
      "import xml.etree.ElementTree as ET\n",
      "tree = ET.parse('country_data.xml')\n",
      "root = tree.getroot()\n",
      "#root = ET.fromstring(country_data_as_string)\n",
      "import pandas as pd\n",
      "for child in root:\n",
      "\tprint child.tag, child.attrib\n",
      "\n",
      "for neighbor in root.iter('neighbor'):\n",
      "\tprint neighbor.attrib\n",
      "\n",
      "for country in root.findall('country'):\n",
      "   rank = country.find('rank').text\n",
      "   name = country.get('name')\n",
      "   print name, rank\n"
     ],
     "language": "python",
     "metadata": {},
     "outputs": [
      {
       "output_type": "stream",
       "stream": "stdout",
       "text": [
        "country {'name': 'Liechtenstein'}\n",
        "country {'name': 'Singapore'}\n",
        "country {'name': 'Panama'}\n",
        "{'direction': 'E', 'name': 'Austria'}\n",
        "{'direction': 'W', 'name': 'Switzerland'}\n",
        "{'direction': 'N', 'name': 'Malaysia'}\n",
        "{'direction': 'W', 'name': 'Costa Rica'}\n",
        "{'direction': 'E', 'name': 'Colombia'}\n",
        "Liechtenstein 1\n",
        "Singapore 4\n",
        "Panama 68\n"
       ]
      }
     ],
     "prompt_number": 33
    },
    {
     "cell_type": "code",
     "collapsed": false,
     "input": [
      "df2 = pd.DataFrame(columns=('rank', 'name', 'year', 'gdppc', 'n1', 'n1_d', 'n2', 'n2_d'))\n",
      "\n",
      "for i in range(len(root)):\n",
      "    obj = root.getchildren()[i].getchildren()\n",
      "    rank = obj[0].text\n",
      "    year = obj[1].text\n",
      "    name = root[i].attrib['name']\n",
      "    gdppc = obj[2].text\n",
      "    n1 = obj[3].attrib['name']\n",
      "    n1_d = obj[3].attrib['direction']\n",
      "    n2 = None\n",
      "    n2_d = None\n",
      "    try:\n",
      "        n2 = obj[4].attrib['name']\n",
      "        n2_d = obj[4].attrib['direction']\n",
      "    except (IndexError):\n",
      "        pass\n",
      "    row = dict(zip(['rank', 'name', 'year', 'gdppc', 'n1', 'n1_d', 'n2', 'n2_d'], [rank, name, year, gdppc, n1, n1_d, n2, n2_d]))\n",
      "    row_s = pd.Series(row)\n",
      "    row_s.name = i\n",
      "    df2 = df2.append(row_s)\n",
      "    \n",
      "df2"
     ],
     "language": "python",
     "metadata": {},
     "outputs": [
      {
       "html": [
        "<div style=\"max-height:1000px;max-width:1500px;overflow:auto;\">\n",
        "<table border=\"1\" class=\"dataframe\">\n",
        "  <thead>\n",
        "    <tr style=\"text-align: right;\">\n",
        "      <th></th>\n",
        "      <th>rank</th>\n",
        "      <th>name</th>\n",
        "      <th>year</th>\n",
        "      <th>gdppc</th>\n",
        "      <th>n1</th>\n",
        "      <th>n1_d</th>\n",
        "      <th>n2</th>\n",
        "      <th>n2_d</th>\n",
        "    </tr>\n",
        "  </thead>\n",
        "  <tbody>\n",
        "    <tr>\n",
        "      <th>0</th>\n",
        "      <td>  1</td>\n",
        "      <td> Liechtenstein</td>\n",
        "      <td> 2008</td>\n",
        "      <td> 141100</td>\n",
        "      <td>    Austria</td>\n",
        "      <td> E</td>\n",
        "      <td> Switzerland</td>\n",
        "      <td>    W</td>\n",
        "    </tr>\n",
        "    <tr>\n",
        "      <th>1</th>\n",
        "      <td>  4</td>\n",
        "      <td>     Singapore</td>\n",
        "      <td> 2011</td>\n",
        "      <td>  59900</td>\n",
        "      <td>   Malaysia</td>\n",
        "      <td> N</td>\n",
        "      <td>        None</td>\n",
        "      <td> None</td>\n",
        "    </tr>\n",
        "    <tr>\n",
        "      <th>2</th>\n",
        "      <td> 68</td>\n",
        "      <td>        Panama</td>\n",
        "      <td> 2011</td>\n",
        "      <td>  13600</td>\n",
        "      <td> Costa Rica</td>\n",
        "      <td> W</td>\n",
        "      <td>    Colombia</td>\n",
        "      <td>    E</td>\n",
        "    </tr>\n",
        "  </tbody>\n",
        "</table>\n",
        "</div>"
       ],
       "metadata": {},
       "output_type": "pyout",
       "prompt_number": 46,
       "text": [
        "  rank           name  year   gdppc          n1 n1_d           n2  n2_d\n",
        "0    1  Liechtenstein  2008  141100     Austria    E  Switzerland     W\n",
        "1    4      Singapore  2011   59900    Malaysia    N         None  None\n",
        "2   68         Panama  2011   13600  Costa Rica    W     Colombia     E"
       ]
      }
     ],
     "prompt_number": 46
    },
    {
     "cell_type": "code",
     "collapsed": false,
     "input": [
      "df3 = pd.DataFrame(columns=('name', 'rank', 'year', 'gdppc', 'neighbor', 'directions'))\n",
      "\n",
      "for i in range(len(root)):\n",
      "    obj = root.getchildren()[i].getchildren()\n",
      "    rank = obj[0].text\n",
      "    year = obj[1].text\n",
      "    name = root[i].attrib['name']\n",
      "    gdppc = obj[2].text\n",
      "    neighbors = [x.attrib['name'] for x in root[i].iter('neighbor')]\n",
      "    directions = [x.attrib['direction'] for x in root[i].iter('neighbor')]\n",
      "    row = dict(zip(['rank', 'name', 'year', 'gdppc', 'neighbor', 'directions'], [rank, name, year, gdppc, neighbors, directions]))\n",
      "    row_s = pd.Series(row)\n",
      "    row_s.name = i\n",
      "    df3 = df3.append(row_s)\n",
      "    \n",
      "df3"
     ],
     "language": "python",
     "metadata": {},
     "outputs": [
      {
       "html": [
        "<div style=\"max-height:1000px;max-width:1500px;overflow:auto;\">\n",
        "<table border=\"1\" class=\"dataframe\">\n",
        "  <thead>\n",
        "    <tr style=\"text-align: right;\">\n",
        "      <th></th>\n",
        "      <th>name</th>\n",
        "      <th>rank</th>\n",
        "      <th>year</th>\n",
        "      <th>gdppc</th>\n",
        "      <th>neighbor</th>\n",
        "      <th>directions</th>\n",
        "    </tr>\n",
        "  </thead>\n",
        "  <tbody>\n",
        "    <tr>\n",
        "      <th>0</th>\n",
        "      <td> Liechtenstein</td>\n",
        "      <td>  1</td>\n",
        "      <td> 2008</td>\n",
        "      <td> 141100</td>\n",
        "      <td> [Austria, Switzerland]</td>\n",
        "      <td> [E, W]</td>\n",
        "    </tr>\n",
        "    <tr>\n",
        "      <th>1</th>\n",
        "      <td>     Singapore</td>\n",
        "      <td>  4</td>\n",
        "      <td> 2011</td>\n",
        "      <td>  59900</td>\n",
        "      <td>             [Malaysia]</td>\n",
        "      <td>    [N]</td>\n",
        "    </tr>\n",
        "    <tr>\n",
        "      <th>2</th>\n",
        "      <td>        Panama</td>\n",
        "      <td> 68</td>\n",
        "      <td> 2011</td>\n",
        "      <td>  13600</td>\n",
        "      <td> [Costa Rica, Colombia]</td>\n",
        "      <td> [W, E]</td>\n",
        "    </tr>\n",
        "  </tbody>\n",
        "</table>\n",
        "</div>"
       ],
       "metadata": {},
       "output_type": "pyout",
       "prompt_number": 57,
       "text": [
        "            name rank  year   gdppc                neighbor directions\n",
        "0  Liechtenstein    1  2008  141100  [Austria, Switzerland]     [E, W]\n",
        "1      Singapore    4  2011   59900              [Malaysia]        [N]\n",
        "2         Panama   68  2011   13600  [Costa Rica, Colombia]     [W, E]"
       ]
      }
     ],
     "prompt_number": 57
    },
    {
     "cell_type": "code",
     "collapsed": false,
     "input": [
      "import seaborn as sns\n",
      "%matplotlib inline\n",
      "sns.barplot(df3.name,df3['rank'])\n"
     ],
     "language": "python",
     "metadata": {},
     "outputs": [
      {
       "metadata": {},
       "output_type": "pyout",
       "prompt_number": 70,
       "text": [
        "<matplotlib.axes._subplots.AxesSubplot at 0x7faf5c501890>"
       ]
      },
      {
       "metadata": {},
       "output_type": "display_data",
       "png": "[encoded data removed]",
       "text": [
        "<matplotlib.figure.Figure at 0x7faf5c506850>"
       ]
      }
     ],
     "prompt_number": 70
    },
    {
     "cell_type": "code",
     "collapsed": false,
     "input": [
      "import matplotlib.pyplot as plt\n",
      "plt.plot(df3['rank'])"
     ],
     "language": "python",
     "metadata": {},
     "outputs": [
      {
       "metadata": {},
       "output_type": "pyout",
       "prompt_number": 77,
       "text": [
        "[<matplotlib.lines.Line2D at 0x7faf5c161310>]"
       ]
      },
      {
       "metadata": {},
       "output_type": "display_data",
       "png": "[encoded data removed]",
       "text": [
        "<matplotlib.figure.Figure at 0x7faf5c506590>"
       ]
      }
     ],
     "prompt_number": 77
    },
    {
     "cell_type": "code",
     "collapsed": false,
     "input": [
      "\n",
      "import csv\n",
      "import numpy as np\n",
      "import sklearn\n",
      "import matplotlib\n",
      "import matplotlib.pyplot as plt\n",
      "from numpy import *\n",
      "import time\n",
      "import pandas as pd\n",
      "import seaborn as sns\n",
      "%matplotlib inline\n"
     ],
     "language": "python",
     "metadata": {},
     "outputs": [],
     "prompt_number": 84
    },
    {
     "cell_type": "code",
     "collapsed": false,
     "input": [
      "a = np.array(df3.gdppc).astype(int)"
     ],
     "language": "python",
     "metadata": {},
     "outputs": [],
     "prompt_number": 96
    },
    {
     "cell_type": "code",
     "collapsed": false,
     "input": [
      "b = np.array(df3.year).astype(int)"
     ],
     "language": "python",
     "metadata": {},
     "outputs": [],
     "prompt_number": 97
    },
    {
     "cell_type": "code",
     "collapsed": false,
     "input": [
      "plt.plot(a,b)"
     ],
     "language": "python",
     "metadata": {},
     "outputs": [
      {
       "metadata": {},
       "output_type": "pyout",
       "prompt_number": 98,
       "text": [
        "[<matplotlib.lines.Line2D at 0x7faf5bb401d0>]"
       ]
      },
      {
       "metadata": {},
       "output_type": "display_data",
       "png": "[encoded data removed]",
       "text": [
        "<matplotlib.figure.Figure at 0x7faf5b8193d0>"
       ]
      }
     ],
     "prompt_number": 98
    },
    {
     "cell_type": "code",
     "collapsed": false,
     "input": [
      "import sklearn as skl"
     ],
     "language": "python",
     "metadata": {},
     "outputs": [],
     "prompt_number": 104
    },
    {
     "cell_type": "code",
     "collapsed": false,
     "input": [
      "from sklearn import linear_model\n",
      "regr = linear_model.LinearRegression()\n",
      "Xtrain = df3[0:1].year\n",
      "ytrain = df3[0:1].gdppc\n",
      "Xtest = df3.year[2]\n",
      "ytest = df3.gdppc[2]\n",
      "regr.fit(Xtrain, ytrain)\n",
      "# The mean square error\n",
      "print(\"Residual sum of squares regr: %.2f\"\n",
      "      % np.mean((regr.predict(Xtest) - ytest) ** 2))\n"
     ],
     "language": "python",
     "metadata": {},
     "outputs": [
      {
       "ename": "IndexError",
       "evalue": "tuple index out of range",
       "output_type": "pyerr",
       "traceback": [
        "\u001b[1;31m---------------------------------------------------------------------------\u001b[0m\n\u001b[1;31mIndexError\u001b[0m                                Traceback (most recent call last)",
        "\u001b[1;32m<ipython-input-113-23233f9bd0dc>\u001b[0m in \u001b[0;36m<module>\u001b[1;34m()\u001b[0m\n\u001b[0;32m      5\u001b[0m \u001b[0mXtest\u001b[0m \u001b[1;33m=\u001b[0m \u001b[0mdf3\u001b[0m\u001b[1;33m.\u001b[0m\u001b[0myear\u001b[0m\u001b[1;33m[\u001b[0m\u001b[1;36m2\u001b[0m\u001b[1;33m]\u001b[0m\u001b[1;33m\u001b[0m\u001b[0m\n\u001b[0;32m      6\u001b[0m \u001b[0mytest\u001b[0m \u001b[1;33m=\u001b[0m \u001b[0mdf3\u001b[0m\u001b[1;33m.\u001b[0m\u001b[0mgdppc\u001b[0m\u001b[1;33m[\u001b[0m\u001b[1;36m2\u001b[0m\u001b[1;33m]\u001b[0m\u001b[1;33m\u001b[0m\u001b[0m\n\u001b[1;32m----> 7\u001b[1;33m \u001b[0mregr\u001b[0m\u001b[1;33m.\u001b[0m\u001b[0mfit\u001b[0m\u001b[1;33m(\u001b[0m\u001b[0mXtrain\u001b[0m\u001b[1;33m,\u001b[0m \u001b[0mytrain\u001b[0m\u001b[1;33m)\u001b[0m\u001b[1;33m\u001b[0m\u001b[0m\n\u001b[0m\u001b[0;32m      8\u001b[0m \u001b[1;31m# The mean square error\u001b[0m\u001b[1;33m\u001b[0m\u001b[1;33m\u001b[0m\u001b[0m\n\u001b[0;32m      9\u001b[0m print(\"Residual sum of squares regr: %.2f\"\n",
        "\u001b[1;32m/home/atproofer/anaconda/lib/python2.7/site-packages/sklearn/linear_model/base.pyc\u001b[0m in \u001b[0;36mfit\u001b[1;34m(self, X, y, n_jobs)\u001b[0m\n\u001b[0;32m    353\u001b[0m \u001b[1;33m\u001b[0m\u001b[0m\n\u001b[0;32m    354\u001b[0m         X, y, X_mean, y_mean, X_std = self._center_data(\n\u001b[1;32m--> 355\u001b[1;33m             X, y, self.fit_intercept, self.normalize, self.copy_X)\n\u001b[0m\u001b[0;32m    356\u001b[0m \u001b[1;33m\u001b[0m\u001b[0m\n\u001b[0;32m    357\u001b[0m         \u001b[1;32mif\u001b[0m \u001b[0msp\u001b[0m\u001b[1;33m.\u001b[0m\u001b[0missparse\u001b[0m\u001b[1;33m(\u001b[0m\u001b[0mX\u001b[0m\u001b[1;33m)\u001b[0m\u001b[1;33m:\u001b[0m\u001b[1;33m\u001b[0m\u001b[0m\n",
        "\u001b[1;32m/home/atproofer/anaconda/lib/python2.7/site-packages/sklearn/linear_model/base.pyc\u001b[0m in \u001b[0;36mcenter_data\u001b[1;34m(X, y, fit_intercept, normalize, copy, sample_weight)\u001b[0m\n\u001b[0;32m    102\u001b[0m                 \u001b[0mX\u001b[0m \u001b[1;33m/=\u001b[0m \u001b[0mX_std\u001b[0m\u001b[1;33m\u001b[0m\u001b[0m\n\u001b[0;32m    103\u001b[0m             \u001b[1;32melse\u001b[0m\u001b[1;33m:\u001b[0m\u001b[1;33m\u001b[0m\u001b[0m\n\u001b[1;32m--> 104\u001b[1;33m                 \u001b[0mX_std\u001b[0m \u001b[1;33m=\u001b[0m \u001b[0mnp\u001b[0m\u001b[1;33m.\u001b[0m\u001b[0mones\u001b[0m\u001b[1;33m(\u001b[0m\u001b[0mX\u001b[0m\u001b[1;33m.\u001b[0m\u001b[0mshape\u001b[0m\u001b[1;33m[\u001b[0m\u001b[1;36m1\u001b[0m\u001b[1;33m]\u001b[0m\u001b[1;33m)\u001b[0m\u001b[1;33m\u001b[0m\u001b[0m\n\u001b[0m\u001b[0;32m    105\u001b[0m         \u001b[0my_mean\u001b[0m \u001b[1;33m=\u001b[0m \u001b[0mnp\u001b[0m\u001b[1;33m.\u001b[0m\u001b[0maverage\u001b[0m\u001b[1;33m(\u001b[0m\u001b[0my\u001b[0m\u001b[1;33m,\u001b[0m \u001b[0maxis\u001b[0m\u001b[1;33m=\u001b[0m\u001b[1;36m0\u001b[0m\u001b[1;33m,\u001b[0m \u001b[0mweights\u001b[0m\u001b[1;33m=\u001b[0m\u001b[0msample_weight\u001b[0m\u001b[1;33m)\u001b[0m\u001b[1;33m\u001b[0m\u001b[0m\n\u001b[0;32m    106\u001b[0m         \u001b[0my\u001b[0m \u001b[1;33m=\u001b[0m \u001b[0my\u001b[0m \u001b[1;33m-\u001b[0m \u001b[0my_mean\u001b[0m\u001b[1;33m\u001b[0m\u001b[0m\n",
        "\u001b[1;31mIndexError\u001b[0m: tuple index out of range"
       ]
      }
     ],
     "prompt_number": 113
    },
    {
     "cell_type": "code",
     "collapsed": false,
     "input": [
      "[df3.year[2].astype(int)]"
     ],
     "language": "python",
     "metadata": {},
     "outputs": [
      {
       "ename": "AttributeError",
       "evalue": "'str' object has no attribute 'astype'",
       "output_type": "pyerr",
       "traceback": [
        "\u001b[1;31m---------------------------------------------------------------------------\u001b[0m\n\u001b[1;31mAttributeError\u001b[0m                            Traceback (most recent call last)",
        "\u001b[1;32m<ipython-input-118-1147400d72dc>\u001b[0m in \u001b[0;36m<module>\u001b[1;34m()\u001b[0m\n\u001b[1;32m----> 1\u001b[1;33m \u001b[1;33m[\u001b[0m\u001b[0mdf3\u001b[0m\u001b[1;33m.\u001b[0m\u001b[0myear\u001b[0m\u001b[1;33m[\u001b[0m\u001b[1;36m2\u001b[0m\u001b[1;33m]\u001b[0m\u001b[1;33m.\u001b[0m\u001b[0mastype\u001b[0m\u001b[1;33m(\u001b[0m\u001b[0mint\u001b[0m\u001b[1;33m)\u001b[0m\u001b[1;33m]\u001b[0m\u001b[1;33m\u001b[0m\u001b[0m\n\u001b[0m",
        "\u001b[1;31mAttributeError\u001b[0m: 'str' object has no attribute 'astype'"
       ]
      }
     ],
     "prompt_number": 118
    },
    {
     "cell_type": "code",
     "collapsed": false,
     "input": [],
     "language": "python",
     "metadata": {},
     "outputs": []
    }
   ],
   "metadata": {}
  }
 ]
}