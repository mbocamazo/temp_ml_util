{
 "metadata": {
  "name": "",
  "signature": "sha256:84a81bc0881fe10f91bbbb0f54e5fa9a7b63ed0e5358de589a7aa78ec76104b0"
 },
 "nbformat": 3,
 "nbformat_minor": 0,
 "worksheets": []
}